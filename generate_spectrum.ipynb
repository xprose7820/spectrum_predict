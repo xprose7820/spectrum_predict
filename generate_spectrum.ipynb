{
 "cells": [
  {
   "cell_type": "code",
   "execution_count": null,
   "metadata": {},
   "outputs": [],
   "source": [
    "import numpy as np\n",
    "import matplotlib.pyplot as plt\n",
    "import h5py  # For handling large datasets\n",
    "\n",
    "def gaussian_peak(mz_range, center, width):\n",
    "    \"\"\"Generate Gaussian peak based on center and width.\"\"\"\n",
    "    return np.exp(-(mz_range - center)**2 / (2 * width**2))\n",
    "\n",
    "def generate_spectrum(mz_range, peak_info):\n",
    "    \"\"\"Generate a spectrum with multiple peaks based on the peak information.\"\"\"\n",
    "    spectrum = np.zeros_like(mz_range)\n",
    "    for center, width in peak_info:\n",
    "        spectrum += gaussian_peak(mz_range, center, width)\n",
    "    return spectrum\n",
    "\n",
    "def generate_data_pairs(num_pairs, max_groups, blur_range):\n",
    "    \"\"\"Generate data pairs of spectra with variable number of peak groups.\"\"\"\n",
    "    mz_range = np.linspace(50, 150, 400)\n",
    "    with h5py.File('mass_spectra_test_v1.hdf5', 'w') as f:\n",
    "        blurred_dset = f.create_dataset('blurred_spectra', (num_pairs, len(mz_range)), dtype='float32')\n",
    "        distinct_dset = f.create_dataset('distinct_spectra', (num_pairs, len(mz_range)), dtype='float32')\n",
    "        \n",
    "        for i in range(num_pairs):\n",
    "            num_groups = np.random.randint(1, max_groups + 1)  # Random number of peak groups\n",
    "            blurred_peaks = []\n",
    "            distinct_peaks = []\n",
    "            for _ in range(num_groups):\n",
    "                center = np.random.randint(50, 145)  # Adjust to avoid overflow beyond 150\n",
    "                blurred_width = np.random.uniform(blur_range[0], blur_range[1])\n",
    "                blurred_peaks.append((center, blurred_width))\n",
    "                blurred_peaks.append((center + 5, blurred_width))\n",
    "                distinct_peaks.append((center, 0.5))\n",
    "                distinct_peaks.append((center + 5, 0.5))\n",
    "            blurred_spectrum = generate_spectrum(mz_range, blurred_peaks) + np.random.normal(0, 0.05, mz_range.size)\n",
    "            distinct_spectrum = generate_spectrum(mz_range, distinct_peaks) + np.random.normal(0, 0.01, mz_range.size)\n",
    "            blurred_dset[i, :] = blurred_spectrum\n",
    "            distinct_dset[i, :] = distinct_spectrum\n",
    "\n",
    "# Example usage\n",
    "num_pairs = 1  # Total number of spectrum pairs to generate\n",
    "max_groups = 10  # Maximum number of peak groups per spectrum\n",
    "blur_range = (1.5, 2.2)  # Width range for blurred peaks\n",
    "\n",
    "generate_data_pairs(num_pairs, max_groups, blur_range)\n"
   ]
  }
 ],
 "metadata": {
  "language_info": {
   "name": "python"
  }
 },
 "nbformat": 4,
 "nbformat_minor": 2
}
